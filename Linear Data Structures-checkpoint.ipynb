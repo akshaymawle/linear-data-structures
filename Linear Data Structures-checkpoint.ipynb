{
 "cells": [
  {
   "cell_type": "markdown",
   "id": "6efcfd87",
   "metadata": {},
   "source": [
    "Linear Data Structures"
   ]
  },
  {
   "cell_type": "code",
   "execution_count": 2,
   "id": "1f50637e",
   "metadata": {},
   "outputs": [
    {
     "name": "stdout",
     "output_type": "stream",
     "text": [
      "Pairs with sum 8: [(1, 7), (2, 6), (3, 5)]\n"
     ]
    }
   ],
   "source": [
    "#Q1. Write a program to find all pairs of an integer array whose sum is equal to a given number?\n",
    "def find_pairs_with_sum(arr, target_sum):\n",
    "    pairs = []\n",
    "    for i in range(len(arr)):\n",
    "        for j in range(i + 1, len(arr)):\n",
    "            if arr[i] + arr[j] == target_sum:\n",
    "                pairs.append((arr[i], arr[j]))\n",
    "    return pairs\n",
    "\n",
    "# Example \n",
    "arr = [1, 2, 3, 4, 5, 6, 7]\n",
    "target_sum = 8\n",
    "result_pairs = find_pairs_with_sum(arr, target_sum)\n",
    "\n",
    "print(f\"Pairs with sum {target_sum}: {result_pairs}\")\n"
   ]
  },
  {
   "cell_type": "code",
   "execution_count": 3,
   "id": "bd19fa82",
   "metadata": {},
   "outputs": [],
   "source": [
    "#Q2. Write a program to reverse an array in place? In place means you cannot create a new array. You have to update the original array."
   ]
  },
  {
   "cell_type": "code",
   "execution_count": 4,
   "id": "af00fb4d",
   "metadata": {},
   "outputs": [
    {
     "name": "stdout",
     "output_type": "stream",
     "text": [
      "Original Array: [1, 2, 3, 4, 5]\n",
      "Reversed Array: [5, 4, 3, 2, 1]\n"
     ]
    }
   ],
   "source": [
    "def reverse_array_in_place(arr):\n",
    "    start, end = 0, len(arr) - 1\n",
    "\n",
    "    while start < end:\n",
    "       \n",
    "        arr[start], arr[end] = arr[end], arr[start]\n",
    "\n",
    "        \n",
    "        start += 1\n",
    "        end -= 1\n",
    "\n",
    "# Example \n",
    "arr = [1, 2, 3, 4, 5]\n",
    "print(\"Original Array:\", arr)\n",
    "\n",
    "reverse_array_in_place(arr)\n",
    "print(\"Reversed Array:\", arr)\n"
   ]
  },
  {
   "cell_type": "code",
   "execution_count": 5,
   "id": "ed1d5df4",
   "metadata": {},
   "outputs": [
    {
     "name": "stdout",
     "output_type": "stream",
     "text": [
      "abcde and cdeab are rotations of each other.\n"
     ]
    }
   ],
   "source": [
    "#Q3. Write a program to check if two strings are a rotation of each other?\n",
    "def are_rotations(str1, str2):\n",
    "    \n",
    "    if len(str1) != len(str2):\n",
    "        return False\n",
    "\n",
    "    \n",
    "    concatenated_str = str1 + str1\n",
    "    if str2 in concatenated_str:\n",
    "        return True\n",
    "    else:\n",
    "        return False\n",
    "\n",
    "# Example \n",
    "string1 = \"abcde\"\n",
    "string2 = \"cdeab\"\n",
    "\n",
    "if are_rotations(string1, string2):\n",
    "    print(f\"{string1} and {string2} are rotations of each other.\")\n",
    "else:\n",
    "    print(f\"{string1} and {string2} are not rotations of each other.\")\n"
   ]
  },
  {
   "cell_type": "code",
   "execution_count": 6,
   "id": "a15f6c4d",
   "metadata": {},
   "outputs": [
    {
     "name": "stdout",
     "output_type": "stream",
     "text": [
      "The first non-repeated character in 'programming' is: p\n"
     ]
    }
   ],
   "source": [
    "#Q4. Write a program to print the first non-repeated character from a string?\n",
    "def first_non_repeated_char(s):\n",
    "    char_count = {}\n",
    "    \n",
    "    for char in s:\n",
    "        if char in char_count:\n",
    "            char_count[char] += 1\n",
    "        else:\n",
    "            char_count[char] = 1\n",
    "    \n",
    "    for char in s:\n",
    "        if char_count[char] == 1:\n",
    "            return char\n",
    "    \n",
    "    return None\n",
    "\n",
    "# Example \n",
    "input_string = \"programming\"\n",
    "\n",
    "result = first_non_repeated_char(input_string)\n",
    "\n",
    "if result:\n",
    "    print(f\"The first non-repeated character in '{input_string}' is: {result}\")\n",
    "else:\n",
    "    print(f\"There is no non-repeated character in '{input_string}'.\")\n"
   ]
  },
  {
   "cell_type": "code",
   "execution_count": 7,
   "id": "f55cae99",
   "metadata": {},
   "outputs": [
    {
     "name": "stdout",
     "output_type": "stream",
     "text": [
      "Move disk 1 from A to C\n",
      "Move disk 2 from A to B\n",
      "Move disk 1 from C to B\n",
      "Move disk 3 from A to C\n",
      "Move disk 1 from B to A\n",
      "Move disk 2 from B to C\n",
      "Move disk 1 from A to C\n"
     ]
    }
   ],
   "source": [
    "#Q5. Read about the Tower of Hanoi algorithm. Write a program to implement it.\n",
    "def tower_of_hanoi(n, source, target, auxiliary):\n",
    "    if n > 0:\n",
    "       \n",
    "        tower_of_hanoi(n - 1, source, auxiliary, target)\n",
    "        \n",
    "       \n",
    "        print(f\"Move disk {n} from {source} to {target}\")\n",
    "        \n",
    "       \n",
    "        tower_of_hanoi(n - 1, auxiliary, target, source)\n",
    "\n",
    "# Example\n",
    "num_disks = 3\n",
    "tower_of_hanoi(num_disks, 'A', 'C', 'B')\n"
   ]
  },
  {
   "cell_type": "code",
   "execution_count": 8,
   "id": "fd06968c",
   "metadata": {},
   "outputs": [],
   "source": [
    "#Q6. Read about infix, prefix, and postfix expressions. Write a program to convert postfix to prefix expression"
   ]
  },
  {
   "cell_type": "code",
   "execution_count": 9,
   "id": "b4c36dc8",
   "metadata": {},
   "outputs": [
    {
     "name": "stdout",
     "output_type": "stream",
     "text": [
      "Postfix Expression: 23*5+\n",
      "Prefix Expression: +*235\n"
     ]
    }
   ],
   "source": [
    "def is_operator(char):\n",
    "    return char in {'+', '-', '*', '/'}\n",
    "\n",
    "def postfix_to_prefix(postfix_expression):\n",
    "    stack = []\n",
    "\n",
    "    for char in postfix_expression:\n",
    "        if not is_operator(char):\n",
    "            \n",
    "            stack.append(char)\n",
    "        else:\n",
    "            \n",
    "            operand2 = stack.pop()\n",
    "            operand1 = stack.pop()\n",
    "            new_expression = char + operand1 + operand2\n",
    "            stack.append(new_expression)\n",
    "\n",
    "   \n",
    "    return stack.pop()\n",
    "\n",
    "# Example \n",
    "postfix_expr = \"23*5+\"\n",
    "prefix_expr = postfix_to_prefix(postfix_expr)\n",
    "print(f\"Postfix Expression: {postfix_expr}\")\n",
    "print(f\"Prefix Expression: {prefix_expr}\")\n"
   ]
  },
  {
   "cell_type": "code",
   "execution_count": 10,
   "id": "76b2095d",
   "metadata": {},
   "outputs": [
    {
     "name": "stdout",
     "output_type": "stream",
     "text": [
      "Prefix Expression: +*235\n",
      "Infix Expression: ((2*3)+5)\n"
     ]
    }
   ],
   "source": [
    "#Q7. Write a program to convert prefix expression to infix expression.\n",
    "def is_operator(char):\n",
    "    return char in {'+', '-', '*', '/'}\n",
    "\n",
    "def prefix_to_infix(prefix_expression):\n",
    "    stack = []\n",
    "\n",
    "    \n",
    "    for char in reversed(prefix_expression):\n",
    "        if not is_operator(char):\n",
    "           \n",
    "            stack.append(char)\n",
    "        else:\n",
    "           \n",
    "            operand1 = stack.pop()\n",
    "            operand2 = stack.pop()\n",
    "            new_expression = f\"({operand1}{char}{operand2})\"\n",
    "            stack.append(new_expression)\n",
    "\n",
    "    \n",
    "    return stack.pop()\n",
    "\n",
    "# Example \n",
    "prefix_expr = \"+*235\"\n",
    "infix_expr = prefix_to_infix(prefix_expr)\n",
    "print(f\"Prefix Expression: {prefix_expr}\")\n",
    "print(f\"Infix Expression: {infix_expr}\")\n"
   ]
  },
  {
   "cell_type": "code",
   "execution_count": 11,
   "id": "a7fa22c1",
   "metadata": {},
   "outputs": [
    {
     "name": "stdout",
     "output_type": "stream",
     "text": [
      "All brackets are closed properly.\n"
     ]
    }
   ],
   "source": [
    "#Q8. Write a program to check if all the brackets are closed in a given code snippet\n",
    "def are_brackets_closed(code_snippet):\n",
    "    stack = []\n",
    "    bracket_pairs = {')': '(', '}': '{', ']': '['}\n",
    "\n",
    "    for char in code_snippet:\n",
    "        if char in bracket_pairs.values():\n",
    "          \n",
    "            stack.append(char)\n",
    "        elif char in bracket_pairs.keys():\n",
    "           \n",
    "            if not stack or stack.pop() != bracket_pairs[char]:\n",
    "                return False\n",
    "\n",
    "  \n",
    "    return not stack\n",
    "\n",
    "# Example\n",
    "code_snippet = \"{(a + b) * (c - d)}\"\n",
    "result = are_brackets_closed(code_snippet)\n",
    "\n",
    "if result:\n",
    "    print(\"All brackets are closed properly.\")\n",
    "else:\n",
    "    print(\"Brackets are not closed properly.\")\n"
   ]
  },
  {
   "cell_type": "code",
   "execution_count": 12,
   "id": "f1f81200",
   "metadata": {},
   "outputs": [
    {
     "name": "stdout",
     "output_type": "stream",
     "text": [
      "Original Stack: [1, 2, 3, 4]\n",
      "Reversed Stack: [1, 2, 3, 4]\n"
     ]
    }
   ],
   "source": [
    "#Q9. Write a program to reverse a stack.\n",
    "class Stack:\n",
    "    def __init__(self):\n",
    "        self.items = []\n",
    "\n",
    "    def is_empty(self):\n",
    "        return len(self.items) == 0\n",
    "\n",
    "    def push(self, item):\n",
    "        self.items.append(item)\n",
    "\n",
    "    def pop(self):\n",
    "        if not self.is_empty():\n",
    "            return self.items.pop()\n",
    "\n",
    "    def peek(self):\n",
    "        if not self.is_empty():\n",
    "            return self.items[-1]\n",
    "\n",
    "    def size(self):\n",
    "        return len(self.items)\n",
    "\n",
    "def reverse_stack(stack):\n",
    "    aux_stack = Stack()\n",
    "\n",
    "    while not stack.is_empty():\n",
    "        \n",
    "        aux_stack.push(stack.pop())\n",
    "\n",
    "    \n",
    "    while not aux_stack.is_empty():\n",
    "        stack.push(aux_stack.pop())\n",
    "\n",
    "# Example \n",
    "original_stack = Stack()\n",
    "original_stack.push(1)\n",
    "original_stack.push(2)\n",
    "original_stack.push(3)\n",
    "original_stack.push(4)\n",
    "\n",
    "print(\"Original Stack:\", original_stack.items)\n",
    "\n",
    "reverse_stack(original_stack)\n",
    "\n",
    "print(\"Reversed Stack:\", original_stack.items)\n"
   ]
  },
  {
   "cell_type": "code",
   "execution_count": null,
   "id": "d94bc9ef",
   "metadata": {},
   "outputs": [],
   "source": [
    "#Q10. Write a program to find the smallest number using a stack.\n",
    "class MinStack:\n",
    "    def __init__(self):\n",
    "        self.stack = []\n",
    "        self.min_stack = []\n",
    "\n",
    "    def is_empty(self):\n",
    "        return len(self.stack) == 0\n",
    "\n",
    "    def push(self, item):\n",
    "        self.stack.append(item)\n",
    "        if self.is_empty() or item <= self.min_stack[-1]:\n",
    "            \n",
    "            self.min_stack.append(item)\n",
    "\n",
    "    def pop(self):\n",
    "        if not self.is_empty():\n",
    "            popped_item = self.stack.pop()\n",
    "            if popped_item == self.min_stack[-1]:\n",
    "               \n",
    "                self.min_stack.pop()\n",
    "            return popped_item\n",
    "\n",
    "    def get_min(self):\n",
    "        if not self.min_stack:  \n",
    "            return None\n",
    "        return self.min_stack[-1]\n",
    "\n",
    "# Example \n",
    "min_stack = MinStack()\n",
    "min_stack.push(3)\n",
    "min_stack.push(5)\n",
    "min_stack.push(2)\n",
    "min_stack.push(1)\n",
    "min_stack.push(4)\n",
    "\n",
    "print(\"Minimum element in the stack:\", min_stack.get_min())\n"
   ]
  }
 ],
 "metadata": {
  "kernelspec": {
   "display_name": "Python 3 (ipykernel)",
   "language": "python",
   "name": "python3"
  },
  "language_info": {
   "codemirror_mode": {
    "name": "ipython",
    "version": 3
   },
   "file_extension": ".py",
   "mimetype": "text/x-python",
   "name": "python",
   "nbconvert_exporter": "python",
   "pygments_lexer": "ipython3",
   "version": "3.11.4"
  }
 },
 "nbformat": 4,
 "nbformat_minor": 5
}
